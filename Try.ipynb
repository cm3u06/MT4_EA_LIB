{
 "cells": [
  {
   "cell_type": "code",
   "execution_count": 1,
   "id": "f0723f41-ae6e-4aad-9164-1dc77b1ae5e1",
   "metadata": {},
   "outputs": [],
   "source": [
    "from EACommunicator_API import EACommunicator_API\n",
    "import sys\n",
    "\n",
    "############################################\n",
    "# ALL API\n",
    "############################################\n",
    "#\n",
    "#\n",
    "#    def Disconnect(self):\n",
    "#    def Connect(self,\n",
    "#                server: str = 'localhost',\n",
    "#                port: int = 5555) -> bool:\n",
    "#    def Check_connection(self) -> bool:\n",
    "#    def IsConnected(self) -> bool:\n",
    "#    def Get_instrument_info(self,\n",
    "#                            instrument: str = 'EURUSD') -> dict:\n",
    "#    def Update_instruments(self, selected=True) -> bool:\n",
    "#    def Get_instruments(self, selected=True) ->list:\n",
    "#    def Get_last_x_ticks_from_now(self,\n",
    "#                                  instrument: str = 'EURUSD',\n",
    "#                                  nbrofticks: int = 2000) -> np.array:\n",
    "#    def Get_last_x_bars_from_now(self,\n",
    "#                                 instrument: str = 'EURUSD',\n",
    "#                                 timeframe: str = 'D1',\n",
    "#                                 nbrofbars: int = 1000) -> np.array:\n",
    "#    def Get_all_orders(self) -> pd.DataFrame:\n",
    "#    def readCsv(self, inputCsvString):\n",
    "#    def Get_all_open_positions(self) -> pd.DataFrame:\n",
    "#    def Get_all_closed_positions(self) -> pd.DataFrame:\n",
    "#    def Open_order(self,\n",
    "#                   instrument: str = '',\n",
    "#                   ordertype: str = 'buy',\n",
    "#                   volume: float = 0.01,\n",
    "#                   openprice: float = 0.0,\n",
    "#                   slippage: int = 5,\n",
    "#                   magicnumber: int = 0,\n",
    "#                   stoploss: float = 0.0,\n",
    "#                   takeprofit: float = 0.0,\n",
    "#                   comment: str = '',\n",
    "#                   market: bool = False\n",
    "#                   ) -> int:\n",
    "#    def Close_position_by_ticket(self,\n",
    "#                                 ticket: int = 0) -> bool:\n",
    "#    def Close_position_partial_by_ticket(self,\n",
    "#                                         ticket: int = 0,\n",
    "#                                         volume_to_close: float = 0.01) -> bool:\n",
    "#    def Delete_order_by_ticket(self,\n",
    "#                               ticket: int = 0) -> bool:\n",
    "#    def Set_sl_and_tp_for_position(self,\n",
    "#                                   ticket: int = 0,\n",
    "#                                   stoploss: float = 0.0,\n",
    "#                                   takeprofit: float = 0.0) -> bool:\n",
    "#    def Set_sl_and_tp_for_order(self,\n",
    "#                                ticket: int = 0,\n",
    "#                                stoploss: float = 0.0,\n",
    "#                                takeprofit: float = 0.0) -> bool:\n",
    "#    def Change_settings_for_pending_order(self,\n",
    "#                                ticket: int = 0,\n",
    "#                                price: float = -1.0,\n",
    "#                                stoploss: float = -1.0,\n",
    "#                                takeprofit: float = -1.0) -> bool:\n",
    "#    def Get_last_tick_info(self, symbol):\n",
    "#    def send_command(self,\n",
    "#                     command: TradingCommands, arguments: str = ''):\n",
    "#    def get_timeframe_value(self,\n",
    "#                            timeframe: str = 'M1') -> int:"
   ]
  },
  {
   "cell_type": "code",
   "execution_count": 2,
   "id": "abce79b3-d333-450f-be12-5bd5c8d960b3",
   "metadata": {},
   "outputs": [],
   "source": [
    "mt = EACommunicator_API()\n",
    "mt.Connect(server='host.docker.internal')"
   ]
  },
  {
   "cell_type": "code",
   "execution_count": null,
   "id": "59fcb9cc-d79f-48a1-828e-a4862e66ddff",
   "metadata": {},
   "outputs": [],
   "source": [
    "Symbols = mt.Get_instruments(False)"
   ]
  },
  {
   "cell_type": "code",
   "execution_count": 4,
   "id": "4069b7c7-b1c8-44db-985b-d98af5c381b5",
   "metadata": {},
   "outputs": [],
   "source": [
    "stocks=['#TSLA']"
   ]
  },
  {
   "cell_type": "code",
   "execution_count": 5,
   "id": "a02dadf4-8967-4172-ad31-9ee89172a081",
   "metadata": {},
   "outputs": [],
   "source": [
    "import pandas as pd\n",
    "import numpy as np\n",
    "pd.set_option('display.max_rows', 100)\n",
    "\n",
    "def Get_ohlcv(instrument='EURUSD', timeframe='D', nbrofbars=20):\n",
    "    df = pd.DataFrame(mt.Get_last_x_bars_from_now(instrument, timeframe,nbrofbars))\n",
    "    df = df.iloc[:, 1:].set_index('Time')\n",
    "    df.index = pd.to_datetime(df.index)\n",
    "    df.columns = [c.lower() for c in df.columns]\n",
    "    return df"
   ]
  },
  {
   "cell_type": "code",
   "execution_count": 6,
   "id": "35b027f5-9db3-448c-bcf3-231236c2d0c8",
   "metadata": {},
   "outputs": [
    {
     "data": {
      "text/html": [
       "<div>\n",
       "<style scoped>\n",
       "    .dataframe tbody tr th:only-of-type {\n",
       "        vertical-align: middle;\n",
       "    }\n",
       "\n",
       "    .dataframe tbody tr th {\n",
       "        vertical-align: top;\n",
       "    }\n",
       "\n",
       "    .dataframe thead th {\n",
       "        text-align: right;\n",
       "    }\n",
       "</style>\n",
       "<table border=\"1\" class=\"dataframe\">\n",
       "  <thead>\n",
       "    <tr style=\"text-align: right;\">\n",
       "      <th></th>\n",
       "      <th>open</th>\n",
       "      <th>high</th>\n",
       "      <th>low</th>\n",
       "      <th>close</th>\n",
       "      <th>volume</th>\n",
       "    </tr>\n",
       "    <tr>\n",
       "      <th>Time</th>\n",
       "      <th></th>\n",
       "      <th></th>\n",
       "      <th></th>\n",
       "      <th></th>\n",
       "      <th></th>\n",
       "    </tr>\n",
       "  </thead>\n",
       "  <tbody>\n",
       "    <tr>\n",
       "      <th>2019-06-24</th>\n",
       "      <td>14.89</td>\n",
       "      <td>15.03</td>\n",
       "      <td>14.72</td>\n",
       "      <td>14.90</td>\n",
       "      <td>8262</td>\n",
       "    </tr>\n",
       "    <tr>\n",
       "      <th>2019-06-25</th>\n",
       "      <td>14.96</td>\n",
       "      <td>14.99</td>\n",
       "      <td>14.62</td>\n",
       "      <td>14.64</td>\n",
       "      <td>6885</td>\n",
       "    </tr>\n",
       "    <tr>\n",
       "      <th>2019-06-26</th>\n",
       "      <td>14.69</td>\n",
       "      <td>15.13</td>\n",
       "      <td>14.53</td>\n",
       "      <td>14.61</td>\n",
       "      <td>9102</td>\n",
       "    </tr>\n",
       "    <tr>\n",
       "      <th>2019-06-27</th>\n",
       "      <td>14.61</td>\n",
       "      <td>14.84</td>\n",
       "      <td>14.47</td>\n",
       "      <td>14.84</td>\n",
       "      <td>8911</td>\n",
       "    </tr>\n",
       "    <tr>\n",
       "      <th>2019-06-28</th>\n",
       "      <td>14.77</td>\n",
       "      <td>15.00</td>\n",
       "      <td>14.73</td>\n",
       "      <td>14.88</td>\n",
       "      <td>9737</td>\n",
       "    </tr>\n",
       "    <tr>\n",
       "      <th>...</th>\n",
       "      <td>...</td>\n",
       "      <td>...</td>\n",
       "      <td>...</td>\n",
       "      <td>...</td>\n",
       "      <td>...</td>\n",
       "    </tr>\n",
       "    <tr>\n",
       "      <th>2019-11-07</th>\n",
       "      <td>21.92</td>\n",
       "      <td>22.75</td>\n",
       "      <td>21.86</td>\n",
       "      <td>22.36</td>\n",
       "      <td>21865</td>\n",
       "    </tr>\n",
       "    <tr>\n",
       "      <th>2019-11-08</th>\n",
       "      <td>22.31</td>\n",
       "      <td>22.49</td>\n",
       "      <td>22.16</td>\n",
       "      <td>22.45</td>\n",
       "      <td>14591</td>\n",
       "    </tr>\n",
       "    <tr>\n",
       "      <th>2019-11-11</th>\n",
       "      <td>22.86</td>\n",
       "      <td>23.27</td>\n",
       "      <td>22.83</td>\n",
       "      <td>22.99</td>\n",
       "      <td>16596</td>\n",
       "    </tr>\n",
       "    <tr>\n",
       "      <th>2019-11-12</th>\n",
       "      <td>23.10</td>\n",
       "      <td>23.35</td>\n",
       "      <td>22.93</td>\n",
       "      <td>23.29</td>\n",
       "      <td>13024</td>\n",
       "    </tr>\n",
       "    <tr>\n",
       "      <th>2019-11-13</th>\n",
       "      <td>23.54</td>\n",
       "      <td>23.54</td>\n",
       "      <td>23.54</td>\n",
       "      <td>23.54</td>\n",
       "      <td>1</td>\n",
       "    </tr>\n",
       "  </tbody>\n",
       "</table>\n",
       "<p>101 rows × 5 columns</p>\n",
       "</div>"
      ],
      "text/plain": [
       "             open   high    low  close  volume\n",
       "Time                                          \n",
       "2019-06-24  14.89  15.03  14.72  14.90    8262\n",
       "2019-06-25  14.96  14.99  14.62  14.64    6885\n",
       "2019-06-26  14.69  15.13  14.53  14.61    9102\n",
       "2019-06-27  14.61  14.84  14.47  14.84    8911\n",
       "2019-06-28  14.77  15.00  14.73  14.88    9737\n",
       "...           ...    ...    ...    ...     ...\n",
       "2019-11-07  21.92  22.75  21.86  22.36   21865\n",
       "2019-11-08  22.31  22.49  22.16  22.45   14591\n",
       "2019-11-11  22.86  23.27  22.83  22.99   16596\n",
       "2019-11-12  23.10  23.35  22.93  23.29   13024\n",
       "2019-11-13  23.54  23.54  23.54  23.54       1\n",
       "\n",
       "[101 rows x 5 columns]"
      ]
     },
     "execution_count": 6,
     "metadata": {},
     "output_type": "execute_result"
    }
   ],
   "source": [
    "df = Get_ohlcv(instrument=stocks[0], timeframe='D', nbrofbars=2000)\n",
    "df"
   ]
  },
  {
   "cell_type": "code",
   "execution_count": 17,
   "id": "0f2872d4-ae86-4ceb-8fdb-998f08a453cd",
   "metadata": {},
   "outputs": [],
   "source": [
    "from functools import reduce\n",
    "def recursive_reduce(cond_dict, conditions):\n",
    "    def reduce_op(a,b):\n",
    "        #print(f'OP = {a} {list(cond_dict.keys())[0]} {b}')\n",
    "        if list(cond_dict.keys())[0]=='|':\n",
    "            return a|b\n",
    "        elif list(cond_dict.keys())[0]=='&':\n",
    "            return a&b\n",
    "        else:\n",
    "            return False\n",
    "    conds = []\n",
    "    for cond in list(cond_dict.values())[0]:\n",
    "        print(f'A : {cond}')\n",
    "        if type(cond) == dict:\n",
    "            conds.append(recursive_reduce(cond, conditions))\n",
    "        else:\n",
    "            if cond in conditions:\n",
    "                conds.append(conditions[cond])\n",
    "            else:\n",
    "                print(cond + ' is not in conditions!')\n",
    "            \n",
    "    if list(cond_dict.keys())[0]=='~':\n",
    "        print(f'B : {conds[0]}')\n",
    "        return ~conds[0]\n",
    "    else:\n",
    "        return reduce(reduce_op, conds)\n"
   ]
  },
  {
   "cell_type": "code",
   "execution_count": 22,
   "id": "c543d06a-45d2-44c4-93b2-e85e1cb37718",
   "metadata": {},
   "outputs": [],
   "source": [
    "conditions = {'up_candle1' : (df['close']>df['open']).shift()}\n",
    "cond_dict = {'~':['up_candle1']}"
   ]
  },
  {
   "cell_type": "code",
   "execution_count": 28,
   "id": "d97e6a85-d99e-4990-acbc-691b1d823751",
   "metadata": {},
   "outputs": [
    {
     "data": {
      "text/plain": [
       "Time\n",
       "2019-06-24     True\n",
       "2019-06-25     True\n",
       "2019-06-26    False\n",
       "2019-06-27    False\n",
       "2019-06-28     True\n",
       "              ...  \n",
       "2019-11-07     True\n",
       "2019-11-08     True\n",
       "2019-11-11     True\n",
       "2019-11-12     True\n",
       "2019-11-13     True\n",
       "Length: 101, dtype: bool"
      ]
     },
     "execution_count": 28,
     "metadata": {},
     "output_type": "execute_result"
    }
   ],
   "source": [
    "#recursive_reduce(cond_dict, conditions)\n",
    "(df['close']>df['open']).shift().astype(bool)"
   ]
  },
  {
   "cell_type": "code",
   "execution_count": 24,
   "id": "621dc503-bac6-4943-a29f-ddb0c9e91397",
   "metadata": {},
   "outputs": [
    {
     "data": {
      "image/png": "[encoded data removed]",
      "text/plain": [
       "<Figure size 640x480 with 2 Axes>"
      ]
     },
     "metadata": {},
     "output_type": "display_data"
    }
   ],
   "source": [
    "import matplotlib.pyplot as plt\n",
    "\n",
    "\n",
    "sta_date = '20210601'\n",
    "end_date = '20210630'\n",
    "df['close'][sta_date:end_date].plot()\n",
    "df['close'].rolling(21).mean()[sta_date:end_date].plot()\n",
    "#df['close'].rolling(21).mean().rolling(5).std()[sta_date:end_date].plot(secondary_y=True)\n",
    "#(df['close'].rolling(21).std()/df['close'].rolling(21).mean())[sta_date:end_date].plot(secondary_y=True)\n",
    "(df['close'].rolling(10).std()/df['close'])[sta_date:end_date].plot(secondary_y=True)\n",
    "(df['close']/df['close'].shift(5)-1)[sta_date:end_date].plot(secondary_y=True)\n",
    "#(true_range(df)/df['close'].rolling(21).mean())[sta_date:end_date].plot(secondary_y=True)\n",
    "plt.show()"
   ]
  },
  {
   "cell_type": "code",
   "execution_count": 50,
   "id": "c909a13a-8a33-48b5-800c-e8e3fd9096ec",
   "metadata": {},
   "outputs": [],
   "source": [
    "def true_range(df):\n",
    "    df['C-H'] = (df['close']-df['high'].shift()).abs()\n",
    "    df['C-L'] = (df['close']-df['low'].shift()).abs()\n",
    "    df['H-L'] = (df['high']-df['low'].shift()).abs()\n",
    "    return df.loc[:,['C-H','C-L','H-L']].agg('max',axis=1)"
   ]
  },
  {
   "cell_type": "code",
   "execution_count": 6,
   "id": "4e456df7-ee95-4f64-b15e-3a4b212a649f",
   "metadata": {},
   "outputs": [],
   "source": [
    "orders = mt.Get_all_closed_positions()"
   ]
  },
  {
   "cell_type": "code",
   "execution_count": 64,
   "id": "72d99b53-9108-40ae-9f9a-16e3d46d9c24",
   "metadata": {},
   "outputs": [
    {
     "data": {
      "text/plain": [
       "71.21"
      ]
     },
     "execution_count": 64,
     "metadata": {},
     "output_type": "execute_result"
    }
   ],
   "source": [
    "oc_max = df[sta_date:end_date][['open','close']].max(axis=1)\n",
    "oc_min = df[sta_date:end_date][['open','close']].min(axis=1)\n",
    "\n",
    "oc_ovlp = (oc_min < oc_max.shift()) & (oc_max > oc_min.shift())\n",
    "oc_ovlp_grp = (~oc_ovlp).cumsum()\n",
    "\n",
    "#(df[sta_date:end_date]['close']).plot()\n",
    "#(df[sta_date:end_date]['open']).plot()\n",
    "oc_max.iloc[:-1].groupby(by=oc_ovlp_grp.iloc[:-1]).min().iloc[-2]"
   ]
  },
  {
   "cell_type": "code",
   "execution_count": 4,
   "id": "74436a27-4ca0-4503-8b0b-1a4bb774b5be",
   "metadata": {},
   "outputs": [],
   "source": [
    "\n",
    "    open_position = mt.Get_all_open_positions()"
   ]
  },
  {
   "cell_type": "code",
   "execution_count": 5,
   "id": "00e0ebbd-04b8-4e9a-90c1-34986500f439",
   "metadata": {},
   "outputs": [
    {
     "data": {
      "text/html": [
       "<div>\n",
       "<style scoped>\n",
       "    .dataframe tbody tr th:only-of-type {\n",
       "        vertical-align: middle;\n",
       "    }\n",
       "\n",
       "    .dataframe tbody tr th {\n",
       "        vertical-align: top;\n",
       "    }\n",
       "\n",
       "    .dataframe thead th {\n",
       "        text-align: right;\n",
       "    }\n",
       "</style>\n",
       "<table border=\"1\" class=\"dataframe\">\n",
       "  <thead>\n",
       "    <tr style=\"text-align: right;\">\n",
       "      <th></th>\n",
       "      <th>ticket</th>\n",
       "      <th>symbol</th>\n",
       "      <th>position_type</th>\n",
       "      <th>volume</th>\n",
       "      <th>openprice</th>\n",
       "      <th>stoploss</th>\n",
       "      <th>takeprofit</th>\n",
       "      <th>opentime</th>\n",
       "      <th>profit</th>\n",
       "      <th>comment</th>\n",
       "    </tr>\n",
       "  </thead>\n",
       "  <tbody>\n",
       "    <tr>\n",
       "      <th>0</th>\n",
       "      <td>17690817</td>\n",
       "      <td>#MRNA</td>\n",
       "      <td>buy</td>\n",
       "      <td>10.0</td>\n",
       "      <td>84.98</td>\n",
       "      <td>83.44</td>\n",
       "      <td>0.0</td>\n",
       "      <td>2024.02.14</td>\n",
       "      <td>86.60</td>\n",
       "      <td>STOCK_HIT_BBANDS_LB</td>\n",
       "    </tr>\n",
       "    <tr>\n",
       "      <th>1</th>\n",
       "      <td>17631137</td>\n",
       "      <td>#LI</td>\n",
       "      <td>buy</td>\n",
       "      <td>10.0</td>\n",
       "      <td>30.33</td>\n",
       "      <td>31.57</td>\n",
       "      <td>0.0</td>\n",
       "      <td>2024.02.07</td>\n",
       "      <td>77.10</td>\n",
       "      <td>NaN</td>\n",
       "    </tr>\n",
       "    <tr>\n",
       "      <th>2</th>\n",
       "      <td>17536617</td>\n",
       "      <td>#LI</td>\n",
       "      <td>buy</td>\n",
       "      <td>10.0</td>\n",
       "      <td>27.75</td>\n",
       "      <td>31.57</td>\n",
       "      <td>0.0</td>\n",
       "      <td>2024.01.30</td>\n",
       "      <td>102.90</td>\n",
       "      <td>NaN</td>\n",
       "    </tr>\n",
       "    <tr>\n",
       "      <th>3</th>\n",
       "      <td>17630823</td>\n",
       "      <td>#INTC</td>\n",
       "      <td>buy</td>\n",
       "      <td>10.0</td>\n",
       "      <td>43.07</td>\n",
       "      <td>41.50</td>\n",
       "      <td>0.0</td>\n",
       "      <td>2024.02.07</td>\n",
       "      <td>22.40</td>\n",
       "      <td>NaN</td>\n",
       "    </tr>\n",
       "    <tr>\n",
       "      <th>4</th>\n",
       "      <td>17690815</td>\n",
       "      <td>#DPW</td>\n",
       "      <td>buy</td>\n",
       "      <td>10.0</td>\n",
       "      <td>42.24</td>\n",
       "      <td>41.32</td>\n",
       "      <td>0.0</td>\n",
       "      <td>2024.02.14</td>\n",
       "      <td>2.17</td>\n",
       "      <td>STOCK_HIT_BBANDS_LB</td>\n",
       "    </tr>\n",
       "    <tr>\n",
       "      <th>5</th>\n",
       "      <td>17756793</td>\n",
       "      <td>#CMCSA</td>\n",
       "      <td>buy</td>\n",
       "      <td>10.0</td>\n",
       "      <td>41.76</td>\n",
       "      <td>40.51</td>\n",
       "      <td>0.0</td>\n",
       "      <td>2024.02.21</td>\n",
       "      <td>2.50</td>\n",
       "      <td>NaN</td>\n",
       "    </tr>\n",
       "    <tr>\n",
       "      <th>6</th>\n",
       "      <td>17670443</td>\n",
       "      <td>#BOUY</td>\n",
       "      <td>buy</td>\n",
       "      <td>10.0</td>\n",
       "      <td>33.18</td>\n",
       "      <td>32.60</td>\n",
       "      <td>0.0</td>\n",
       "      <td>2024.02.13</td>\n",
       "      <td>30.95</td>\n",
       "      <td>STOCK_HIT_BBANDS_LB</td>\n",
       "    </tr>\n",
       "    <tr>\n",
       "      <th>7</th>\n",
       "      <td>17756806</td>\n",
       "      <td>#ADBE</td>\n",
       "      <td>buy</td>\n",
       "      <td>10.0</td>\n",
       "      <td>537.23</td>\n",
       "      <td>528.17</td>\n",
       "      <td>0.0</td>\n",
       "      <td>2024.02.21</td>\n",
       "      <td>296.70</td>\n",
       "      <td>NaN</td>\n",
       "    </tr>\n",
       "  </tbody>\n",
       "</table>\n",
       "</div>"
      ],
      "text/plain": [
       "     ticket  symbol position_type  volume  openprice  stoploss  takeprofit  \\\n",
       "0  17690817   #MRNA           buy    10.0      84.98     83.44         0.0   \n",
       "1  17631137     #LI           buy    10.0      30.33     31.57         0.0   \n",
       "2  17536617     #LI           buy    10.0      27.75     31.57         0.0   \n",
       "3  17630823   #INTC           buy    10.0      43.07     41.50         0.0   \n",
       "4  17690815    #DPW           buy    10.0      42.24     41.32         0.0   \n",
       "5  17756793  #CMCSA           buy    10.0      41.76     40.51         0.0   \n",
       "6  17670443   #BOUY           buy    10.0      33.18     32.60         0.0   \n",
       "7  17756806   #ADBE           buy    10.0     537.23    528.17         0.0   \n",
       "\n",
       "     opentime  profit              comment  \n",
       "0  2024.02.14   86.60  STOCK_HIT_BBANDS_LB  \n",
       "1  2024.02.07   77.10                  NaN  \n",
       "2  2024.01.30  102.90                  NaN  \n",
       "3  2024.02.07   22.40                  NaN  \n",
       "4  2024.02.14    2.17  STOCK_HIT_BBANDS_LB  \n",
       "5  2024.02.21    2.50                  NaN  \n",
       "6  2024.02.13   30.95  STOCK_HIT_BBANDS_LB  \n",
       "7  2024.02.21  296.70                  NaN  "
      ]
     },
     "execution_count": 5,
     "metadata": {},
     "output_type": "execute_result"
    }
   ],
   "source": [
    "open_position"
   ]
  },
  {
   "cell_type": "code",
   "execution_count": 1,
   "id": "20016c74-4592-4d7c-afae-1aaf31b6b750",
   "metadata": {},
   "outputs": [
    {
     "data": {
      "text/plain": [
       "3"
      ]
     },
     "execution_count": 1,
     "metadata": {},
     "output_type": "execute_result"
    }
   ],
   "source": [
    "max(1,2,3)"
   ]
  },
  {
   "cell_type": "code",
   "execution_count": 13,
   "id": "4fa7aad3-e8bd-4946-98b1-a18b42af5d6e",
   "metadata": {},
   "outputs": [],
   "source": [
    "a = {'&':['x','y','z']}"
   ]
  },
  {
   "cell_type": "code",
   "execution_count": 14,
   "id": "3889d0d0-d347-40cb-a224-7a184a6984e4",
   "metadata": {},
   "outputs": [
    {
     "name": "stdout",
     "output_type": "stream",
     "text": [
      "['x', 'y', 'z']\n"
     ]
    }
   ],
   "source": [
    "for i in (a.values()):\n",
    "    print(i)"
   ]
  },
  {
   "cell_type": "code",
   "execution_count": 20,
   "id": "f4f07408-619d-4abf-a583-cee3201e6694",
   "metadata": {},
   "outputs": [
    {
     "data": {
      "text/plain": [
       "'x'"
      ]
     },
     "execution_count": 20,
     "metadata": {},
     "output_type": "execute_result"
    }
   ],
   "source": [
    "list(a.values())[0][0]"
   ]
  },
  {
   "cell_type": "code",
   "execution_count": 6,
   "id": "8a2f1f6b-e1ce-4247-bd12-6b5041818fae",
   "metadata": {},
   "outputs": [],
   "source": [
    "a=[1,2,3]"
   ]
  },
  {
   "cell_type": "code",
   "execution_count": 7,
   "id": "fb751cf6-b068-45ea-992e-77d7187b85ba",
   "metadata": {},
   "outputs": [],
   "source": [
    "b=a[:]"
   ]
  },
  {
   "cell_type": "code",
   "execution_count": 8,
   "id": "479f13fa-2efd-4d6a-b102-97e49eb46819",
   "metadata": {},
   "outputs": [
    {
     "data": {
      "text/plain": [
       "[2, 3]"
      ]
     },
     "execution_count": 8,
     "metadata": {},
     "output_type": "execute_result"
    }
   ],
   "source": [
    "a.remove(1)\n",
    "a"
   ]
  },
  {
   "cell_type": "code",
   "execution_count": 9,
   "id": "892371ed-44bb-4aa8-a8ea-ba63781e726a",
   "metadata": {},
   "outputs": [
    {
     "data": {
      "text/plain": [
       "[1, 2, 3]"
      ]
     },
     "execution_count": 9,
     "metadata": {},
     "output_type": "execute_result"
    }
   ],
   "source": [
    "b"
   ]
  },
  {
   "cell_type": "code",
   "execution_count": null,
   "id": "afd94ed1-db60-4876-b12e-e2edcb38835d",
   "metadata": {},
   "outputs": [],
   "source": []
  }
 ],
 "metadata": {
  "kernelspec": {
   "display_name": "Python 3 (ipykernel)",
   "language": "python",
   "name": "python3"
  },
  "language_info": {
   "codemirror_mode": {
    "name": "ipython",
    "version": 3
   },
   "file_extension": ".py",
   "mimetype": "text/x-python",
   "name": "python",
   "nbconvert_exporter": "python",
   "pygments_lexer": "ipython3",
   "version": "3.11.5"
  }
 },
 "nbformat": 4,
 "nbformat_minor": 5
}
