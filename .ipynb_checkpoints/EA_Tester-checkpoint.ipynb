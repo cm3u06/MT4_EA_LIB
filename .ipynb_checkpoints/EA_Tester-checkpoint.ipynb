{
 "cells": [
  {
   "cell_type": "code",
   "execution_count": null,
   "id": "f0723f41-ae6e-4aad-9164-1dc77b1ae5e1",
   "metadata": {
    "tags": []
   },
   "outputs": [],
   "source": [
    "from MTStrategy.EACommunicator_API import EACommunicator_API\n",
    "from MTStrategy.Strategy.BbandKdAll import BbandKdAll\n",
    "from MTStrategy.Strategy.BbandKdBase import BbandKdBase\n",
    "from MTStrategy.schedule import Strategy_Scheduler\n",
    "import datetime as dt\n",
    "\n",
    "mt = EACommunicator_API()\n",
    "mt.Connect(server='localhost',port=5557)\n",
    "mt.Get_instruments(False)\n",
    "\n",
    "EU_shares = ['#ADS', '#AIR', '#AIRP', '#ALV', '#AXAF', '#BAS', '#BAYN', '#BEI',\n",
    "             '#BMW', '#BNPP', '#BOUY', '#CBK', '#DAI', '#DANO', '#DB1', '#DBK', '#DPW', '#DTE',\n",
    "             '#EON', '#FME', '#HRMS', '#IFX', '#LHA', '#LIN', '#LVMH', '#MICP', '#MUV2', '#OREP',\n",
    "             '#RWE', '#SAP', '#SIE', '#TTEF', '#VOW']\n",
    "Symbols=[]\n",
    "for sid in mt.Symbols:\n",
    "    if '#' in sid and '#ETF' not in sid and '#HK' not in sid and sid not in EU_shares:\n",
    "        tick = mt.Get_last_tick_info(sid)\n",
    "        #if tick['ask'] <= 100 and tick['ask'] > 50:\n",
    "        Symbols.append(sid)\n",
    "\n",
    "\n",
    "\n",
    "strategy = BbandKdBase(mt, Symbols)\n",
    "\n",
    "scheduler = Strategy_Scheduler(strategy=strategy,\n",
    "                               mt = mt,\n",
    "                               trade_time_list= [\n",
    "                                   dt.time(hour=9,minute=30,second=0),\n",
    "                                   dt.time(hour=10,minute=30,second=0),\n",
    "                                   dt.time(hour=11,minute=30,second=0),\n",
    "                                   dt.time(hour=12,minute=30,second=0),\n",
    "                                   dt.time(hour=13,minute=30,second=0),\n",
    "                                   dt.time(hour=14,minute=30,second=0),\n",
    "                                   dt.time(hour=15,minute=30,second=0),\n",
    "                                   dt.time(hour=16,minute=0,second=0)],\n",
    "                               idle_second = 0\n",
    "                              )"
   ]
  },
  {
   "cell_type": "code",
   "execution_count": null,
   "id": "952bdea0",
   "metadata": {
    "tags": []
   },
   "outputs": [],
   "source": [
    "\n",
    "scheduler.start(end_date_mrk=dt.datetime.strptime('20240401','%Y%m%d'))"
   ]
  },
  {
   "cell_type": "code",
   "execution_count": null,
   "id": "9506baeb",
   "metadata": {},
   "outputs": [],
   "source": [
    "scheduler.stop()"
   ]
  },
  {
   "cell_type": "code",
   "execution_count": null,
   "id": "adddd009",
   "metadata": {},
   "outputs": [],
   "source": [
    "mt.Break()"
   ]
  },
  {
   "cell_type": "code",
   "execution_count": null,
   "id": "b88ac230",
   "metadata": {},
   "outputs": [],
   "source": [
    "import pytz\n",
    "scheduler.start(end_date_mrk=dt.datetime.now().astimezone(pytz.timezone('America/New_York')).replace(hour=15,minute=50,second=0))"
   ]
  },
  {
   "cell_type": "code",
   "execution_count": null,
   "id": "862c1421-077a-4d51-a606-4b2906fb911d",
   "metadata": {},
   "outputs": [],
   "source": []
  },
  {
   "cell_type": "code",
   "execution_count": null,
   "id": "1d6397dd-6319-4a92-8c6e-a59ca3bda994",
   "metadata": {},
   "outputs": [],
   "source": []
  }
 ],
 "metadata": {
  "kernelspec": {
   "display_name": "Python 3 (ipykernel)",
   "language": "python",
   "name": "python3"
  },
  "language_info": {
   "codemirror_mode": {
    "name": "ipython",
    "version": 3
   },
   "file_extension": ".py",
   "mimetype": "text/x-python",
   "name": "python",
   "nbconvert_exporter": "python",
   "pygments_lexer": "ipython3",
   "version": "3.11.5"
  }
 },
 "nbformat": 4,
 "nbformat_minor": 5
}
