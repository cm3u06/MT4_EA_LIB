{
 "cells": [
  {
   "cell_type": "code",
   "execution_count": 25,
   "id": "d6d947a9-636e-48f5-a084-856eb956f6b7",
   "metadata": {},
   "outputs": [
    {
     "data": {
      "text/plain": [
       "0     1\n",
       "1     1\n",
       "2     0\n",
       "3     1\n",
       "4     1\n",
       "5     1\n",
       "6     1\n",
       "7     0\n",
       "8     1\n",
       "9     0\n",
       "10    1\n",
       "dtype: int64"
      ]
     },
     "execution_count": 25,
     "metadata": {},
     "output_type": "execute_result"
    }
   ],
   "source": [
    "import pandas as pd\n",
    "A = pd.Series([1, 2, -3, 4, 5, 5, 5, -6, 7, -8, 9])\n",
    "\n",
    "# Compute consecutive positive times\n",
    "consecutive_positives = (A > 0).astype(int)  # Convert True/False to 1/0\n",
    "consecutive_positives\n",
    "#print(\"Max consecutive positive times:\", max_consecutive_positives)"
   ]
  },
  {
   "cell_type": "code",
   "execution_count": 26,
   "id": "9aa7cd02-2e16-4935-b6fd-fd0b3e2fce44",
   "metadata": {},
   "outputs": [
    {
     "data": {
      "text/plain": [
       "0     1\n",
       "1     1\n",
       "2     2\n",
       "3     3\n",
       "4     3\n",
       "5     3\n",
       "6     3\n",
       "7     4\n",
       "8     5\n",
       "9     6\n",
       "10    7\n",
       "dtype: int64"
      ]
     },
     "execution_count": 26,
     "metadata": {},
     "output_type": "execute_result"
    }
   ],
   "source": [
    "consecutive_positives = consecutive_positives.diff().ne(0).cumsum()  # Generate unique groups for consecutive positives\n",
    "consecutive_positives"
   ]
  },
  {
   "cell_type": "code",
   "execution_count": 27,
   "id": "74ad8177-a36a-499f-97d8-c70fd1c7dd43",
   "metadata": {},
   "outputs": [
    {
     "data": {
      "text/plain": [
       "0     1.0\n",
       "1     1.0\n",
       "2     NaN\n",
       "3     3.0\n",
       "4     3.0\n",
       "5     3.0\n",
       "6     3.0\n",
       "7     NaN\n",
       "8     5.0\n",
       "9     NaN\n",
       "10    7.0\n",
       "dtype: float64"
      ]
     },
     "execution_count": 27,
     "metadata": {},
     "output_type": "execute_result"
    }
   ],
   "source": [
    "consecutive_positives = consecutive_positives.where(A > 0)  # Mask non-positive values\n",
    "consecutive_positives"
   ]
  },
  {
   "cell_type": "code",
   "execution_count": 31,
   "id": "ba45ac21-68ea-466c-8e7a-c3bce04ecb82",
   "metadata": {},
   "outputs": [
    {
     "data": {
      "text/plain": [
       "3.0    4\n",
       "1.0    2\n",
       "5.0    1\n",
       "7.0    1\n",
       "dtype: int64"
      ]
     },
     "execution_count": 31,
     "metadata": {},
     "output_type": "execute_result"
    }
   ],
   "source": [
    "consecutive_positives[A > 0].value_counts()  # Mask non-positive values"
   ]
  },
  {
   "cell_type": "code",
   "execution_count": 29,
   "id": "9715fe2a-8ae8-4286-8b49-c65baa09db34",
   "metadata": {},
   "outputs": [
    {
     "data": {
      "text/plain": [
       "3.0    4\n",
       "1.0    2\n",
       "5.0    1\n",
       "7.0    1\n",
       "dtype: int64"
      ]
     },
     "execution_count": 29,
     "metadata": {},
     "output_type": "execute_result"
    }
   ],
   "source": [
    "max_consecutive_positives = consecutive_positives.value_counts()#.max()\n",
    "max_consecutive_positives"
   ]
  },
  {
   "cell_type": "code",
   "execution_count": null,
   "id": "851e8306-61e1-4672-8708-91357dd6f51b",
   "metadata": {},
   "outputs": [],
   "source": []
  }
 ],
 "metadata": {
  "kernelspec": {
   "display_name": "Python 3 (ipykernel)",
   "language": "python",
   "name": "python3"
  },
  "language_info": {
   "codemirror_mode": {
    "name": "ipython",
    "version": 3
   },
   "file_extension": ".py",
   "mimetype": "text/x-python",
   "name": "python",
   "nbconvert_exporter": "python",
   "pygments_lexer": "ipython3",
   "version": "3.10.13"
  }
 },
 "nbformat": 4,
 "nbformat_minor": 5
}
